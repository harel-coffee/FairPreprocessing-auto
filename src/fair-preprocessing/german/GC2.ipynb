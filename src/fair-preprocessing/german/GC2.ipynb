{
 "cells": [
  {
   "cell_type": "code",
   "execution_count": 1,
   "metadata": {},
   "outputs": [],
   "source": [
    "import sys\n",
    "sys.path.append('../../../')\n",
    "from utils.packages import *\n",
    "from utils.ml_fairness import *\n",
    "from utils.standard_data import *\n",
    "dir = 'res/german2/'\n",
    "Path(dir).mkdir(parents=True, exist_ok=True)\n",
    "\n",
    "d_fields = ['Stage', 'CVR', 'CVD', 'V_SPD', 'V_EOD', 'V_AOD', 'V_ERD', 'Acc', 'F1','SPD', 'EOD', 'AOD', 'ERD']\n",
    "diff_file = dir + 'diff' + '.csv'\n",
    "if(not os.path.isfile(diff_file)):\n",
    "    with open(diff_file, 'a') as csvfile:\n",
    "        csvwriter = csv.writer(csvfile)\n",
    "        csvwriter.writerow(d_fields)\n",
    "    \n",
    "f_count = len([name for name in os.listdir(dir) if os.path.isfile(os.path.join(dir, name)) and not name.startswith('.')])\n",
    "# fields = ['Acc', 'F1', 'DI','SPD', 'EOD', 'AOD', 'ERD', 'CNT', 'TI']\n",
    "fields = ['Acc', 'F1', 'SPD', 'EOD', 'AOD', 'ERD']\n",
    "\n",
    "filename = dir + 'glob-' + str(f_count) + '.csv'\n",
    "with open(filename, 'a') as csvfile:\n",
    "    csvwriter = csv.writer(csvfile)\n",
    "    csvwriter.writerow(fields)\n"
   ]
  },
  {
   "cell_type": "code",
   "execution_count": 2,
   "metadata": {},
   "outputs": [],
   "source": [
    "filepath = '../../../data/german/german.data'\n",
    "column_names = ['status', 'month', 'credit_history',\n",
    "            'purpose', 'credit_amount', 'savings', 'employment',\n",
    "            'investment_as_income_percentage', 'personal_status',\n",
    "            'other_debtors', 'residence_since', 'property', 'age',\n",
    "            'installment_plans', 'housing', 'number_of_credits',\n",
    "            'skill_level', 'people_liable_for', 'telephone',\n",
    "            'foreign_worker', 'credit']\n",
    "na_values=[]\n",
    "df = pd.read_csv(filepath, sep=' ', header=None, names=column_names,na_values=na_values)\n",
    "df['age'] = df['age'].apply(lambda x: np.float(x >= 26))\n",
    "df = german_custom_preprocessing(df)\n",
    "feat_to_drop = ['personal_status']\n",
    "df = df.drop(feat_to_drop, axis=1)\n",
    "\n",
    "cat_feat = ['status', 'credit_history', 'purpose', 'savings', 'employment', 'other_debtors', 'property', 'installment_plans', 'housing', 'skill_level', 'telephone', 'foreign_worker']\n",
    "df = pd.get_dummies(df, columns=cat_feat, prefix_sep='=')\n",
    "num_feat = ['residence_since', 'age', 'investment_as_income_percentage', 'credit_amount', 'number_of_credits', 'people_liable_for', 'month']"
   ]
  },
  {
   "cell_type": "code",
   "execution_count": 3,
   "metadata": {},
   "outputs": [],
   "source": [
    "#####  Pipeline  #####\n",
    "from collections import defaultdict\n",
    "from imblearn.over_sampling import SMOTE\n",
    "import xgboost as xgb\n",
    "from xgboost import XGBClassifier\n"
   ]
  },
  {
   "cell_type": "code",
   "execution_count": 4,
   "metadata": {},
   "outputs": [],
   "source": [
    "seed = randrange(100)\n",
    "y2_train, y2_test = train_test_split(df, test_size = 0.3, random_state = seed) # stratify=df['race']\n",
    "y1_train, y1_test = train_test_split(df, test_size = 0.3, random_state = seed) # \n",
    "\n",
    "pro_att_name = ['age'] # ['sex', 'age']\n",
    "priv_class = [1]\n",
    "reamining_cat_feat = []\n",
    "\n",
    "y2_data_orig_train, y2_X_train, y2_y_train = load_german_data(y2_train, pro_att_name, priv_class, reamining_cat_feat)\n",
    "y2_data_orig_test, y2_X_test, y2_y_test = load_german_data(y2_test, pro_att_name, priv_class, reamining_cat_feat)\n",
    "\n",
    "y1_data_orig_train, y1_X_train, y1_y_train = load_german_data(y1_train, pro_att_name, priv_class, reamining_cat_feat)\n",
    "y1_data_orig_test, y1_X_test, y1_y_test = load_german_data(y1_test, pro_att_name, priv_class, reamining_cat_feat)"
   ]
  },
  {
   "cell_type": "code",
   "execution_count": 5,
   "metadata": {},
   "outputs": [],
   "source": [
    "sc = StandardScaler()\n",
    "\n",
    "trained = sc.fit(y2_X_train)\n",
    "y2_X_train = trained.transform(y2_X_train)\n",
    "y2_X_test = trained.transform(y2_X_test)\n",
    "\n",
    "y2_data_orig_train.features = y2_X_train\n",
    "y2_data_orig_test.features = y2_X_test\n",
    "\n",
    "# y1_X_train = trained.transform(y1_X_train)\n",
    "# y1_X_test = trained.transform(y1_X_test)\n",
    "\n",
    "# y1_data_orig_train.features = y1_X_train\n",
    "# y1_data_orig_test.features = y1_X_test"
   ]
  },
  {
   "cell_type": "code",
   "execution_count": 6,
   "metadata": {},
   "outputs": [],
   "source": [
    "# Balanced Dataset\n",
    "sm = SMOTE(sampling_strategy='auto')\n",
    "y1_X_train, y1_y_train = sm.fit_sample(y1_X_train, y1_y_train)\n",
    "\n",
    "y2_X_train, y2_y_train = sm.fit_sample(y2_X_train, y2_y_train)"
   ]
  },
  {
   "cell_type": "code",
   "execution_count": 7,
   "metadata": {},
   "outputs": [],
   "source": [
    "eval_set_y1=[(y1_X_train, y1_y_train), (y1_X_test, y1_y_test)]\n",
    "eval_set_y2=[(y2_X_train, y2_y_train), (y2_X_test, y2_y_test)]\n",
    "\n",
    "params2={\n",
    "    'n_estimators':3000,\n",
    "    'objective': 'binary:logistic',\n",
    "    'learning_rate': 0.005,\n",
    "    #'gamma':0.01,\n",
    "    'subsample':0.555,\n",
    "    'colsample_bytree':0.7,\n",
    "    'min_child_weight':3,\n",
    "    'max_depth':8,\n",
    "    #'seed':1024,\n",
    "    'n_jobs' : -1\n",
    "}\n",
    "\n",
    "y2_model = XGBClassifier(**params2).fit(y2_X_train, y2_y_train, eval_set=eval_set_y2, early_stopping_rounds = 100, verbose=0)\n",
    "y2_model.set_params(**{'n_estimators': y2_model.best_ntree_limit})\n",
    "y2_mdl = y2_model.fit(y2_X_train, y2_y_train)\n",
    "\n",
    "y1_model = XGBClassifier(**params2).fit(y1_X_train, y1_y_train, eval_set=eval_set_y1, early_stopping_rounds = 100, verbose=0)\n",
    "y1_model.set_params(**{'n_estimators': y1_model.best_ntree_limit})\n",
    "y1_mdl = y1_model.fit(y1_X_train, y1_y_train)\n"
   ]
  },
  {
   "cell_type": "code",
   "execution_count": 8,
   "metadata": {},
   "outputs": [
    {
     "name": "stdout",
     "output_type": "stream",
     "text": [
      "Unprinv: age 0.0\n"
     ]
    }
   ],
   "source": [
    "# plot_model_performance(y2_mdl, y2_X_test, y2_y_test)\n",
    "y1_pred, y1_fair = get_fair_metrics_and_plot(filename, y1_data_orig_test, y1_mdl)\n",
    "y2_pred, y2_fair = get_fair_metrics_and_plot(filename, y2_data_orig_test, y2_mdl)\n",
    "\n",
    "\n",
    "\n",
    "y1_fair = y1_fair.drop(['DI', 'CNT', 'TI'], axis=1)\n",
    "y2_fair = y2_fair.drop(['DI', 'CNT', 'TI'], axis=1)\n",
    "CVR, CVD, AVR_EOD, AVD_EOD, AVR_SPD, AVD_SPD, AVD_AOD, AV_ERD = compute_new_metrics(y2_data_orig_test, y1_pred, y2_pred)\n",
    "row_y1 = y1_fair.iloc[[0]].values[0].tolist()\n",
    "row_y2 = y2_fair.iloc[[0]].values[0].tolist()\n",
    "diff = []\n",
    "\n",
    "with open(filename, 'a') as csvfile:\n",
    "    csvwriter = csv.writer(csvfile)\n",
    "    csvwriter.writerow(row_y1)\n",
    "    csvwriter.writerow(row_y2) \n",
    "\n",
    "diff.append(CVR)\n",
    "diff.append(CVD)\n",
    "diff.append(AVD_SPD)\n",
    "diff.append(AVD_EOD)\n",
    "diff.append(AVD_AOD)\n",
    "diff.append(AV_ERD)\n",
    "\n",
    "for i in range(len(row_y2)):\n",
    "    if(i < 2):\n",
    "        change = row_y2[i] - row_y1[i]\n",
    "    else:\n",
    "        sign = ''\n",
    "        if(row_y2[i] >= 0 and row_y1[i] >= 0):\n",
    "            sign = '(+)'\n",
    "            d = abs(row_y2[i]) - abs(row_y1[i])\n",
    "        if(row_y2[i] < 0 and row_y1[i] < 0):\n",
    "            sign = '(-)'\n",
    "            d = abs(row_y2[i]) - abs(row_y1[i])\n",
    "        if(row_y2[i] < 0 and row_y1[i] >= 0):\n",
    "            sign = '(+-)'\n",
    "            d = row_y2[i] - row_y1[i]\n",
    "        if(row_y2[i] >=0 and row_y1[i] < 0):\n",
    "            sign = '(-+)'\n",
    "            d = row_y2[i] - row_y1[i]\n",
    "        d = round(d, 3)\n",
    "        change = sign + ' ' + str(d)\n",
    "\n",
    "    diff.append(change)\n",
    "\n",
    "cols = ['CVR', 'CVD ', 'AV_SPD', 'AV_EOD', 'AV_AOD', 'AV_ERD', 'Acc', 'F1','SPD', 'EOD', 'AOD', 'ERD']\n",
    "# metrics = pd.DataFrame(data=obj_fairness, index=['y1'], columns=cols)\n",
    "diff_df = pd.DataFrame(data=[diff], columns  = cols, index = ['Diff']).round(3)\n",
    "stage = 'StandardScaler'\n",
    "model_name = 'german2'\n",
    "diff = diff_df.iloc[0].values.tolist()\n",
    "diff.insert(0, stage)\n",
    "diff.insert(0, model_name)\n",
    "with open(diff_file, 'a') as csvfile:\n",
    "    csvwriter = csv.writer(csvfile)\n",
    "    csvwriter.writerow(diff)    \n",
    "    diff_df"
   ]
  }
 ],
 "metadata": {
  "kernelspec": {
   "display_name": "Python 3",
   "language": "python",
   "name": "python3"
  },
  "language_info": {
   "codemirror_mode": {
    "name": "ipython",
    "version": 3
   },
   "file_extension": ".py",
   "mimetype": "text/x-python",
   "name": "python",
   "nbconvert_exporter": "python",
   "pygments_lexer": "ipython3",
   "version": "3.7.6"
  }
 },
 "nbformat": 4,
 "nbformat_minor": 2
}
