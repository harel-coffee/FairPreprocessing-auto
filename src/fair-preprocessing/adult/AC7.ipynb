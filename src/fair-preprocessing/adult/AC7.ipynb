{
 "cells": [
  {
   "cell_type": "code",
   "execution_count": 1,
   "metadata": {},
   "outputs": [],
   "source": [
    "import sys\n",
    "sys.path.append('../../../')\n",
    "from utils.packages import *\n",
    "from utils.ml_fairness import *\n",
    "from utils.standard_data import *\n",
    "dir = 'res/adult7/'\n",
    "Path(dir).mkdir(parents=True, exist_ok=True)\n",
    "\n",
    "d_fields = ['Stage', 'CVR', 'CVD', 'V_SPD', 'V_EOD', 'V_AOD', 'V_ERD', 'Acc', 'F1','SPD', 'EOD', 'AOD', 'ERD']\n",
    "diff_file = dir + 'diff' + '.csv'\n",
    "if(not os.path.isfile(diff_file)):\n",
    "    with open(diff_file, 'a') as csvfile:\n",
    "        csvwriter = csv.writer(csvfile)\n",
    "        csvwriter.writerow(d_fields)\n",
    "    \n",
    "f_count = len([name for name in os.listdir(dir) if os.path.isfile(os.path.join(dir, name)) and not name.startswith('.')])\n",
    "# fields = ['Acc', 'F1', 'DI','SPD', 'EOD', 'AOD', 'ERD', 'CNT', 'TI']\n",
    "fields = ['Acc', 'F1', 'SPD', 'EOD', 'AOD', 'ERD']\n",
    "\n",
    "filename = dir + 'glob-' + str(f_count) + '.csv'\n",
    "with open(filename, 'a') as csvfile:\n",
    "    csvwriter = csv.writer(csvfile)\n",
    "    csvwriter.writerow(fields)\n"
   ]
  },
  {
   "cell_type": "code",
   "execution_count": 2,
   "metadata": {},
   "outputs": [
    {
     "name": "stdout",
     "output_type": "stream",
     "text": [
      "Missing Data: 3620 rows removed.\n"
     ]
    }
   ],
   "source": [
    "train_path = '../../../data/adult/adult.data'\n",
    "test_path = '../../../data/adult/adult.test'\n",
    "\n",
    "column_names = ['age', 'workclass', 'fnlwgt', 'education',\n",
    "            'education-num', 'marital-status', 'occupation', 'relationship',\n",
    "            'race', 'sex', 'capital-gain', 'capital-loss', 'hours-per-week',\n",
    "            'native-country', 'income-per-year']\n",
    "na_values=['?']\n",
    "\n",
    "train = pd.read_csv(train_path, header=None, names=column_names, \n",
    "                    skipinitialspace=True, na_values=na_values)\n",
    "test = pd.read_csv(test_path, header=0, names=column_names,\n",
    "                   skipinitialspace=True, na_values=na_values)\n",
    "\n",
    "df = pd.concat([test, train], ignore_index=True)\n",
    "\n",
    "##### Drop na values\n",
    "dropped = df.dropna()\n",
    "count = df.shape[0] - dropped.shape[0]\n",
    "print(\"Missing Data: {} rows removed.\".format(count))\n",
    "df = dropped"
   ]
  },
  {
   "cell_type": "code",
   "execution_count": 3,
   "metadata": {},
   "outputs": [],
   "source": [
    "y1_df = df.copy()\n",
    "\n",
    "df['education'].replace('Preschool', 'dropout',inplace=True)\n",
    "df['education'].replace('10th', 'dropout',inplace=True)\n",
    "df['education'].replace('11th', 'dropout',inplace=True)\n",
    "df['education'].replace('12th', 'dropout',inplace=True)\n",
    "df['education'].replace('1st-4th', 'dropout',inplace=True)\n",
    "df['education'].replace('5th-6th', 'dropout',inplace=True)\n",
    "df['education'].replace('7th-8th', 'dropout',inplace=True)\n",
    "df['education'].replace('9th', 'dropout',inplace=True)\n",
    "df['education'].replace('HS-Grad', 'HighGrad',inplace=True)\n",
    "df['education'].replace('HS-grad', 'HighGrad',inplace=True)\n",
    "df['education'].replace('Some-college', 'CommunityCollege',inplace=True)\n",
    "df['education'].replace('Assoc-acdm', 'CommunityCollege',inplace=True)\n",
    "df['education'].replace('Assoc-voc', 'CommunityCollege',inplace=True)\n",
    "df['education'].replace('Bachelors', 'Bachelors',inplace=True)\n",
    "df['education'].replace('Masters', 'Masters',inplace=True)\n",
    "df['education'].replace('Prof-school', 'Masters',inplace=True)\n",
    "df['education'].replace('Doctorate', 'Doctorate',inplace=True)\n",
    "\n",
    "df['marital-status'].replace('Never-married', 'NotMarried',inplace=True)\n",
    "df['marital-status'].replace(['Married-AF-spouse'], 'Married',inplace=True)\n",
    "df['marital-status'].replace(['Married-civ-spouse'], 'Married',inplace=True)\n",
    "df['marital-status'].replace(['Married-spouse-absent'], 'NotMarried',inplace=True)\n",
    "df['marital-status'].replace(['Separated'], 'Separated',inplace=True)\n",
    "df['marital-status'].replace(['Divorced'], 'Separated',inplace=True)\n",
    "df['marital-status'].replace(['Widowed'], 'Widowed',inplace=True)\n",
    "\n",
    "df['age'] = pd.cut(df['age'], 20)\n",
    "df['hours-per-week'] = pd.cut(df['hours-per-week'], 10)\n"
   ]
  },
  {
   "cell_type": "code",
   "execution_count": 4,
   "metadata": {},
   "outputs": [],
   "source": [
    "# Create a one-hot encoding of the categorical variables.\n",
    "cat_feat = ['age', 'hours-per-week', 'sex', 'workclass', 'education', 'marital-status', 'occupation', 'relationship', 'native-country']\n",
    "# df = pd.get_dummies(df, columns=cat_feat, prefix_sep='=')\n",
    "\n",
    "## Implement label encoder instead of one-hot encoder\n",
    "for feature in cat_feat:\n",
    "    le = LabelEncoder()\n",
    "    df[feature] = le.fit_transform(df[feature])\n",
    "for feature in cat_feat:\n",
    "    le = LabelEncoder()\n",
    "    y1_df[feature] = le.fit_transform(y1_df[feature])\n",
    "    "
   ]
  },
  {
   "cell_type": "code",
   "execution_count": 5,
   "metadata": {},
   "outputs": [],
   "source": [
    "seed = randrange(100)\n",
    "y2_train, y2_test = train_test_split(df, test_size = 0.3, random_state = seed) # stratify=df['race']\n",
    "y1_train, y1_test = train_test_split(y1_df, test_size = 0.3, random_state = seed) # \n",
    "\n",
    "pro_att_name = ['race'] # ['race', 'sex']\n",
    "priv_class = ['White'] # ['White', 'Male']\n",
    "reamining_cat_feat = []\n",
    "\n",
    "y2_data_orig_train, y2_X_train, y2_y_train = load_adult_data(y2_train, pro_att_name, priv_class, reamining_cat_feat)\n",
    "y2_data_orig_test, y2_X_test, y2_y_test = load_adult_data(y2_test, pro_att_name, priv_class, reamining_cat_feat)\n",
    "\n",
    "y1_data_orig_train, y1_X_train, y1_y_train = load_adult_data(y1_train, pro_att_name, priv_class, reamining_cat_feat)\n",
    "y1_data_orig_test, y1_X_test, y1_y_test = load_adult_data(y1_test, pro_att_name, priv_class, reamining_cat_feat)\n",
    "y1_test_org = y1_data_orig_test.copy()"
   ]
  },
  {
   "cell_type": "code",
   "execution_count": 6,
   "metadata": {},
   "outputs": [],
   "source": [
    "sc = StandardScaler()\n",
    "\n",
    "trained = sc.fit(y2_X_train)\n",
    "y2_X_train = trained.transform(y2_X_train)\n",
    "y2_X_test = trained.transform(y2_X_test)\n",
    "\n",
    "y2_data_orig_train.features = y2_X_train\n",
    "y2_data_orig_test.features = y2_X_test\n",
    "\n",
    "\n",
    "y1_X_train = trained.transform(y1_X_train)\n",
    "y1_X_test = trained.transform(y1_X_test)\n",
    "\n",
    "y1_data_orig_train.features = y1_X_train\n",
    "y1_data_orig_test.features = y1_X_test"
   ]
  },
  {
   "cell_type": "code",
   "execution_count": 7,
   "metadata": {},
   "outputs": [],
   "source": [
    "pca = PCA(n_components=2)\n",
    "\n",
    "trained = pca.fit(y2_X_train)\n",
    "y2_X_train = trained.transform(y2_X_train)\n",
    "y2_X_test = trained.transform(y2_X_test)\n",
    "y2_data_orig_test.features = y2_X_test\n",
    "\n",
    "y1_X_train = trained.transform(y1_X_train)\n",
    "y1_X_test = trained.transform(y1_X_test)\n",
    "y1_data_orig_test.features = y1_X_test"
   ]
  },
  {
   "cell_type": "code",
   "execution_count": 8,
   "metadata": {},
   "outputs": [],
   "source": [
    "\n",
    "y2_model = RandomForestClassifier()\n",
    "y2_mdl = y2_model.fit(y2_X_train, y2_y_train)\n",
    "\n",
    "y1_model = RandomForestClassifier()\n",
    "y1_mdl = y1_model.fit(y1_X_train, y1_y_train)\n"
   ]
  },
  {
   "cell_type": "code",
   "execution_count": 9,
   "metadata": {},
   "outputs": [
    {
     "name": "stdout",
     "output_type": "stream",
     "text": [
      "Unprinv: race 0.0\n"
     ]
    }
   ],
   "source": [
    "# plot_model_performance(y2_mdl, y2_X_test, y2_y_test)\n",
    "y1_pred, y1_fair = get_fair_metrics_and_plot(filename, y1_data_orig_test, y1_mdl)\n",
    "y2_pred, y2_fair = get_fair_metrics_and_plot(filename, y2_data_orig_test, y2_mdl)\n",
    "\n",
    "\n",
    "y1_fair = y1_fair.drop(['DI', 'CNT', 'TI'], axis=1)\n",
    "y2_fair = y2_fair.drop(['DI', 'CNT', 'TI'], axis=1)\n",
    "CVR, CVD, AVR_EOD, AVD_EOD, AVR_SPD, AVD_SPD, AVD_AOD, AV_ERD = compute_new_metrics(y1_test_org, y1_pred, y2_pred)\n",
    "row_y1 = y1_fair.iloc[[0]].values[0].tolist()\n",
    "row_y2 = y2_fair.iloc[[0]].values[0].tolist()\n",
    "diff = []\n",
    "\n",
    "with open(filename, 'a') as csvfile:\n",
    "    csvwriter = csv.writer(csvfile)\n",
    "    csvwriter.writerow(row_y1)\n",
    "    csvwriter.writerow(row_y2) \n",
    "\n",
    "diff.append(CVR)\n",
    "diff.append(CVD)\n",
    "diff.append(AVD_SPD)\n",
    "diff.append(AVD_EOD)\n",
    "diff.append(AVD_AOD)\n",
    "diff.append(AV_ERD)\n",
    "\n",
    "for i in range(len(row_y2)):\n",
    "    if(i < 2):\n",
    "        change = row_y2[i] - row_y1[i]\n",
    "    else:\n",
    "        sign = ''\n",
    "        if(row_y2[i] >= 0 and row_y1[i] >= 0):\n",
    "            sign = '(+)'\n",
    "            d = abs(row_y2[i]) - abs(row_y1[i])\n",
    "        if(row_y2[i] < 0 and row_y1[i] < 0):\n",
    "            sign = '(-)'\n",
    "            d = abs(row_y2[i]) - abs(row_y1[i])\n",
    "        if(row_y2[i] < 0 and row_y1[i] >= 0):\n",
    "            sign = '(+-)'\n",
    "            d = row_y2[i] - row_y1[i]\n",
    "        if(row_y2[i] >=0 and row_y1[i] < 0):\n",
    "            sign = '(-+)'\n",
    "            d = row_y2[i] - row_y1[i]\n",
    "        d = round(d, 3)\n",
    "        change = sign + ' ' + str(d)\n",
    "\n",
    "    diff.append(change)\n",
    "\n",
    "cols = ['CVR', 'CVD ', 'AV_SPD', 'AV_EOD', 'AV_AOD', 'AV_ERD', 'Acc', 'F1','SPD', 'EOD', 'AOD', 'ERD']\n",
    "# metrics = pd.DataFrame(data=obj_fairness, index=['y1'], columns=cols)\n",
    "diff_df = pd.DataFrame(data=[diff], columns  = cols, index = ['Diff']).round(3)\n",
    "stage = 'Custom(feature)'\n",
    "model_name = 'adult7'\n",
    "diff = diff_df.iloc[0].values.tolist()\n",
    "diff.insert(0, stage)\n",
    "diff.insert(0, model_name)\n",
    "with open(diff_file, 'a') as csvfile:\n",
    "    csvwriter = csv.writer(csvfile)\n",
    "    csvwriter.writerow(diff)    \n",
    "    diff_df"
   ]
  }
 ],
 "metadata": {
  "kernelspec": {
   "display_name": "Python 3",
   "language": "python",
   "name": "python3"
  },
  "language_info": {
   "codemirror_mode": {
    "name": "ipython",
    "version": 3
   },
   "file_extension": ".py",
   "mimetype": "text/x-python",
   "name": "python",
   "nbconvert_exporter": "python",
   "pygments_lexer": "ipython3",
   "version": "3.7.6"
  }
 },
 "nbformat": 4,
 "nbformat_minor": 2
}
