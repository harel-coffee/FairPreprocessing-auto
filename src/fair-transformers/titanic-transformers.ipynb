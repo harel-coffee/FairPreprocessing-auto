{
 "cells": [
  {
   "cell_type": "code",
   "execution_count": 1,
   "metadata": {},
   "outputs": [],
   "source": [
    "import sys\n",
    "sys.path.append('../../')\n",
    "from utils.packages import *\n",
    "from utils.ml_fairness import *\n",
    "from utils.standard_data import *\n",
    "dir = 'res/titanic/'\n",
    "Path(dir).mkdir(parents=True, exist_ok=True)\n",
    "\n",
    "d_fields = ['Name', 'Stage', 'CVR', 'CVD', 'V_SPD', 'V_EOD', 'V_AOD', 'V_ERD', 'Acc', 'F1','SPD', 'EOD', 'AOD', 'ERD']\n",
    "diff_file = dir + 'diff' + '.csv'\n",
    "if(not os.path.isfile(diff_file)):\n",
    "    with open(diff_file, 'a') as csvfile:\n",
    "        csvwriter = csv.writer(csvfile)\n",
    "        csvwriter.writerow(d_fields)\n",
    "    \n",
    "f_count = len([name for name in os.listdir(dir) if os.path.isfile(os.path.join(dir, name)) and not name.startswith('.')])\n",
    "fields = ['Acc', 'F1', 'DI','SPD', 'EOD', 'AOD', 'ERD', 'CNT', 'TI']\n",
    "filename = dir + str(f_count) + '.csv'\n",
    "with open(filename, 'a') as csvfile:\n",
    "    csvwriter = csv.writer(csvfile)\n",
    "    csvwriter.writerow(fields)"
   ]
  },
  {
   "cell_type": "code",
   "execution_count": 2,
   "metadata": {},
   "outputs": [],
   "source": [
    "# Load data\n",
    "train = pd.read_csv('../../data/titanic/train.csv')\n",
    "test = pd.read_csv('../../data/titanic/test.csv')\n",
    "df = train"
   ]
  },
  {
   "cell_type": "code",
   "execution_count": 3,
   "metadata": {},
   "outputs": [],
   "source": [
    "## BASIC PREP\n",
    "df['Sex'] = df['Sex'].replace({'female': 0.0, 'male': 1.0})\n",
    "\n",
    "### Missing value\n",
    "df['Age'].fillna(df['Age'].median(), inplace = True)\n",
    "#complete embarked with mode\n",
    "df['Embarked'].fillna(df['Embarked'].mode()[0], inplace = True)\n",
    "#complete missing fare with median\n",
    "df['Fare'].fillna(df['Fare'].median(), inplace = True)\n",
    "\n",
    "### Feature engineering\n",
    "\n",
    "## Drop feature\n",
    "drop_column = ['PassengerId','Cabin', 'Ticket', 'Name', 'Parch']\n",
    "\n",
    "## generation\n",
    "df['FamilySize'] = df ['SibSp'] + df['Parch'] + 1\n",
    "df['IsAlone'] = 1 #initialize to yes/1 is alone\n",
    "df['IsAlone'].loc[df['FamilySize'] > 1] = 0 # now update to no/0 if family size is greater than 1\n",
    "df['Title'] = df['Name'].str.split(\", \", expand=True)[1].str.split(\".\", expand=True)[0]\n",
    "stat_min = 10 #while small is arbitrary, we'll use the common minimum in statistics: http://nicholasjjackson.com/2012/03/08/sample-size-is-10-a-magic-number/\n",
    "title_names = (df['Title'].value_counts() < stat_min) #this will create a true false series with title name as index\n",
    "df['Title'] = df['Title'].apply(lambda x: 'Misc' if title_names.loc[x] == True else x)\n",
    "\n",
    "## Binning\n",
    "df['Fare'] = pd.qcut(df['Fare'], 4)\n",
    "df['Age'] = pd.cut(df['Age'].astype(int), 5)\n",
    "\n",
    "### Encoding\n",
    "## LabelEncoder\n",
    "label = LabelEncoder()\n",
    "df['Embarked'] = label.fit_transform(df['Embarked'])\n",
    "df['Title'] = label.fit_transform(df['Title'])\n",
    "df['Age'] = label.fit_transform(df['Age'])\n",
    "df['Fare'] = label.fit_transform(df['Fare'])\n",
    "\n",
    "## One-hot encoder\n",
    "# cat_feat = ['Cabin', 'Ticket', 'Embarked']\n",
    "# df = pd.get_dummies(df, columns=cat_feat, prefix_sep='=')\n",
    "\n",
    "df.drop(drop_column, axis=1, inplace = True)"
   ]
  },
  {
   "cell_type": "code",
   "execution_count": 4,
   "metadata": {},
   "outputs": [],
   "source": [
    "seed = 42 # randrange(100)\n",
    "y2_train, y2_test = train_test_split(df, test_size = 0.3, random_state = seed) # stratify=df['loan']\n",
    "y1_train, y1_test = train_test_split(df, test_size = 0.3, random_state = seed) # "
   ]
  },
  {
   "cell_type": "code",
   "execution_count": 5,
   "metadata": {},
   "outputs": [],
   "source": [
    "pro_att_name = ['Sex']\n",
    "priv_class = [1]\n",
    "reamining_cat_feat = []\n",
    "\n",
    "y2_data_orig_train, y2_X_train, y2_y_train = load_titanic_data(df, pro_att_name, priv_class, reamining_cat_feat)\n",
    "y2_data_orig_test, y2_X_test, y2_y_test = load_titanic_data(y2_test, pro_att_name, priv_class, reamining_cat_feat)\n",
    "\n",
    "y1_data_orig_train, y1_X_train, y1_y_train = load_titanic_data(df, pro_att_name, priv_class, reamining_cat_feat)\n",
    "y1_data_orig_test, y1_X_test, y1_y_test = load_titanic_data(y1_test, pro_att_name, priv_class, reamining_cat_feat)\n"
   ]
  },
  {
   "cell_type": "code",
   "execution_count": 6,
   "metadata": {},
   "outputs": [],
   "source": [
    "from xgboost import XGBClassifier\n",
    "\n",
    "y2_xgb = XGBClassifier(learning_rate= 0.01, max_depth= 4, n_estimators= 300, seed= 0)\n",
    "y2_mdl = y2_xgb.fit(y2_X_train, y2_y_train)\n",
    "\n",
    "y1_xgb = XGBClassifier(learning_rate= 0.01, max_depth= 4, n_estimators= 300, seed= 0)\n",
    "y1_mdl = y1_xgb.fit(y1_X_train, y1_y_train)"
   ]
  },
  {
   "cell_type": "code",
   "execution_count": 7,
   "metadata": {},
   "outputs": [],
   "source": [
    "# plot_model_performance(y2_mdl, y2_X_test, y2_y_test)\n",
    "y1_pred, y1_fair = get_fair_metrics_and_plot(filename, y1_data_orig_test, y1_mdl)\n",
    "y2_pred, y2_fair = get_fair_metrics_and_plot(filename, y2_data_orig_test, y2_mdl)"
   ]
  },
  {
   "cell_type": "code",
   "execution_count": 8,
   "metadata": {},
   "outputs": [
    {
     "name": "stdout",
     "output_type": "stream",
     "text": [
      "Unprinv: Sex 0.0\n"
     ]
    }
   ],
   "source": [
    "y1_fair = y1_fair.drop(['DI', 'CNT', 'TI'], axis=1)\n",
    "y2_fair = y2_fair.drop(['DI', 'CNT', 'TI'], axis=1)\n",
    "CVR, CVD, AVR_EOD, AVD_EOD, AVR_SPD, AVD_SPD, AVD_AOD, AV_ERD = compute_new_metrics(y2_data_orig_test, y1_pred, y2_pred)\n",
    "row_y1 = y1_fair.iloc[[0]].values[0].tolist()\n",
    "row_y2 = y2_fair.iloc[[0]].values[0].tolist()\n",
    "diff = []\n",
    "\n",
    "diff.append(CVR)\n",
    "diff.append(CVD)\n",
    "diff.append(AVD_SPD)\n",
    "diff.append(AVD_EOD)\n",
    "diff.append(AVD_AOD)\n",
    "diff.append(AV_ERD)\n",
    "\n",
    "for i in range(len(row_y2)):\n",
    "    if(i < 2):\n",
    "        change = row_y2[i] - row_y1[i]\n",
    "    else:\n",
    "        sign = ''\n",
    "        if(row_y2[i] >= 0 and row_y1[i] >= 0):\n",
    "            sign = '(+)'\n",
    "            d = abs(row_y2[i]) - abs(row_y1[i])\n",
    "        if(row_y2[i] < 0 and row_y1[i] < 0):\n",
    "            sign = '(-)'\n",
    "            d = abs(row_y2[i]) - abs(row_y1[i])\n",
    "        if(row_y2[i] < 0 and row_y1[i] >= 0):\n",
    "            sign = '(+-)'\n",
    "            d = row_y2[i] - row_y1[i]\n",
    "        if(row_y2[i] >=0 and row_y1[i] < 0):\n",
    "            sign = '(-+)'\n",
    "            d = row_y2[i] - row_y1[i]\n",
    "        d = round(d, 3)\n",
    "        change = sign + ' ' + str(d)\n",
    "\n",
    "    diff.append(change)\n",
    "\n",
    "cols = ['CVR', 'CVD ', 'AV_SPD', 'AV_EOD', 'AV_AOD', 'AV_ERD', 'Acc', 'F1','SPD', 'EOD', 'AOD', 'ERD']\n",
    "# metrics = pd.DataFrame(data=obj_fairness, index=['y1'], columns=cols)\n",
    "diff_df = pd.DataFrame(data=[diff], columns  = cols, index = ['Diff']).round(3)\n",
    "stage = 'NOthing'\n",
    "model_name = 'titanic-baseline'\n",
    "diff = diff_df.iloc[0].values.tolist()\n",
    "diff.insert(0, stage)\n",
    "diff.insert(0, model_name)\n",
    "with open(diff_file, 'a') as csvfile:\n",
    "    csvwriter = csv.writer(csvfile)\n",
    "    csvwriter.writerow(diff)    \n",
    "    diff_df"
   ]
  }
 ],
 "metadata": {
  "kernelspec": {
   "display_name": "Python 3",
   "language": "python",
   "name": "python3"
  },
  "language_info": {
   "codemirror_mode": {
    "name": "ipython",
    "version": 3
   },
   "file_extension": ".py",
   "mimetype": "text/x-python",
   "name": "python",
   "nbconvert_exporter": "python",
   "pygments_lexer": "ipython3",
   "version": "3.7.6"
  }
 },
 "nbformat": 4,
 "nbformat_minor": 2
}
